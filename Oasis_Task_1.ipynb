{
  "nbformat": 4,
  "nbformat_minor": 0,
  "metadata": {
    "colab": {
      "provenance": []
    },
    "kernelspec": {
      "name": "python3",
      "display_name": "Python 3"
    },
    "language_info": {
      "name": "python"
    }
  },
  "cells": [
    {
      "cell_type": "code",
      "execution_count": null,
      "metadata": {
        "id": "bspY0DpoV4dX"
      },
      "outputs": [],
      "source": [
        "import pandas as pd\n",
        "import numpy as np\n",
        "import matplotlib.pyplot as plt\n",
        "from sklearn.cluster import KMeans\n",
        "from sklearn.preprocessing import StandardScaler\n",
        "import seaborn as sns\n",
        "\n",
        "# Load dataset\n",
        "data = pd.read_csv('customer_data.csv')  # Replace with actual dataset link\n",
        "\n",
        "# Data Exploration\n",
        "print(data.head())\n",
        "print(data.info())\n",
        "print(data.describe())\n",
        "\n",
        "# Data Cleaning\n",
        "data.dropna(inplace=True)  # Handling missing values\n",
        "data.drop_duplicates(inplace=True)  # Removing duplicates\n",
        "\n",
        "# Feature Engineering\n",
        "features = data[['purchase_value', 'purchase_frequency']]  # Example features\n",
        "scaler = StandardScaler()\n",
        "features_scaled = scaler.fit_transform(features)\n",
        "\n",
        "# Customer Segmentation using K-Means\n",
        "kmeans = KMeans(n_clusters=3)  # Choose number of clusters\n",
        "data['cluster'] = kmeans.fit_predict(features_scaled)\n",
        "\n",
        "# Visualization\n",
        "plt.figure(figsize=(10, 6))\n",
        "sns.scatterplot(data=data, x='purchase_value', y='purchase_frequency', hue='cluster', palette='viridis')\n",
        "plt.title('Customer Segmentation')\n",
        "plt.xlabel('Purchase Value')\n",
        "plt.ylabel('Purchase Frequency')\n",
        "plt.legend()\n",
        "plt.show()\n",
        "\n",
        "# Insights\n",
        "for cluster in range(3):\n",
        "    print(f\"Cluster {cluster} characteristics:\")\n",
        "    print(data[data['cluster'] == cluster].describe())\n"
      ]
    }
  ]
}