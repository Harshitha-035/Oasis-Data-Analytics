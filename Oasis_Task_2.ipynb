{
  "nbformat": 4,
  "nbformat_minor": 0,
  "metadata": {
    "colab": {
      "provenance": []
    },
    "kernelspec": {
      "name": "python3",
      "display_name": "Python 3"
    },
    "language_info": {
      "name": "python"
    }
  },
  "cells": [
    {
      "cell_type": "code",
      "execution_count": null,
      "metadata": {
        "id": "gAX8O5fKWLMV"
      },
      "outputs": [],
      "source": [
        "import pandas as pd\n",
        "\n",
        "# Load dataset\n",
        "data = pd.read_csv('data_to_clean.csv')  # Replace with actual dataset link\n",
        "\n",
        "# Data Integrity Check\n",
        "print(data.isnull().sum())  # Check for missing values\n",
        "\n",
        "# Missing Data Handling\n",
        "data.fillna(method='ffill', inplace=True)  # Forward fill for missing values\n",
        "\n",
        "# Duplicate Removal\n",
        "data.drop_duplicates(inplace=True)\n",
        "\n",
        "# Standardization\n",
        "data['column_name'] = data['column_name'].str.lower()  # Example for text standardization\n",
        "\n",
        "# Outlier Detection\n",
        "Q1 = data['numeric_column'].quantile(0.25)\n",
        "Q3 = data['numeric_column'].quantile(0.75)\n",
        "IQR = Q3 - Q1\n",
        "data = data[~((data['numeric_column'] < (Q1 - 1.5 * IQR)) | (data['numeric_column'] > (Q3 + 1.5 * IQR)))]\n",
        "\n",
        "# Save cleaned data\n",
        "data.to_csv('cleaned_data.csv', index=False)\n",
        "print(\"Data cleaning complete.\")\n"
      ]
    }
  ]
}